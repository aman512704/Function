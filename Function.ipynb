{
  "nbformat": 4,
  "nbformat_minor": 0,
  "metadata": {
    "colab": {
      "provenance": []
    },
    "kernelspec": {
      "name": "python3",
      "display_name": "Python 3"
    },
    "language_info": {
      "name": "python"
    }
  },
  "cells": [
    {
      "cell_type": "markdown",
      "source": [
        "# PW Skills - Functions\n",
        "\n",
        "**Q1: Difference between a function and a method**      \n",
        "    Function is an independent block of code. Method is a function\n",
        "    that is linked with an object.  \n",
        "Example:  \n",
        "```python\n",
        "def add(a, b):\n",
        "    return a + b   # function\n",
        "\n",
        "lst = [1, 2, 3]\n",
        "lst.append(4)      # append() is method\n",
        "```\n",
        "\n",
        "**Q2: Function arguments and parameters**  \n",
        "    Parameter = variable in function definition. Argument = actual value   passed when calling.  \n",
        "Example:  \n",
        "```python\n",
        "def greet(name):   # name is parameter\n",
        "    print(\"Hello\", name)\n",
        "\n",
        "greet(\"Aman\")      # Aman is argument\n",
        "```\n",
        "\n",
        "**Q3: Different ways to define and call a function**  \n",
        "    By using def keyword or using lambda (anonymous).  \n",
        "Example:  \n",
        "```python\n",
        "def square(x):\n",
        "    return x*x\n",
        "print(square(5))\n",
        "\n",
        "lambda_square = lambda y: y*y\n",
        "print(lambda_square(6))\n",
        "```\n",
        "\n",
        "**Q4: Purpose of return statement**  \n",
        "    return sends value from function back to caller.  \n",
        "Example:  \n",
        "```python\n",
        "def add(a, b):\n",
        "    return a + b\n",
        "print(add(3, 4))\n",
        "```\n",
        "\n",
        "**Q5: Iterators vs Iterables**  \n",
        "    Iterable can be looped (list, tuple). Iterator uses __iter__ and __next__ methods.  \n",
        "Example:  \n",
        "```python\n",
        "lst = [1, 2, 3]\n",
        "it = iter(lst)\n",
        "print(next(it))  # 1\n",
        "```\n",
        "\n",
        "**Q6: Generators**  \n",
        "    Functions that use yield keyword. Generate values one by one.  \n",
        "Example:  \n",
        "```python\n",
        "def gen_nums():\n",
        "    for i in range(3):\n",
        "        yield i\n",
        "print(list(gen_nums()))\n",
        "```\n",
        "\n",
        "**Q7: Advantages of Generators**  \n",
        "    Save memory, faster, work with infinite sequences.  \n",
        "Example:  \n",
        "```python\n",
        "def squares_gen(n):\n",
        "    for i in range(n):\n",
        "        yield i*i\n",
        "print(list(squares_gen(5)))\n",
        "```\n",
        "\n",
        "**Q8: Lambda functions**  \n",
        "    Small anonymous functions, used for short tasks.  \n",
        "Example:  \n",
        "```python\n",
        "square = lambda x: x*x\n",
        "print(square(5))\n",
        "```\n",
        "\n",
        "**Q9: map() function**  \n",
        "    Applies a function on every element of an iterable.  \n",
        "Example:  \n",
        "```python\n",
        "nums = [1, 2, 3]\n",
        "squares = list(map(lambda x: x*x, nums))\n",
        "print(squares)\n",
        "```\n",
        "\n",
        "**Q10: Difference between map, filter, reduce**  \n",
        "    \n",
        "- map() → applies function to all items  \n",
        "- filter() → keeps items matching condition  \n",
        "- reduce() → combines values step by step  \n",
        "\n",
        "Example:  \n",
        "```python\n",
        "from functools import reduce\n",
        "nums = [1,2,3,4]\n",
        "print(list(map(lambda x: x*2, nums)))         # [2,4,6,8]\n",
        "print(list(filter(lambda x: x%2==0, nums)))  # [2,4]\n",
        "print(reduce(lambda a,b: a+b, nums))         # 10\n",
        "```\n",
        "\n"
      ],
      "metadata": {
        "id": "EfsiVzlpDXuW"
      }
    },
    {
      "cell_type": "markdown",
      "source": [
        "**Q11: Internal mechanism of reduce sum on [47,11,42,13]**  \n",
        "Step1: 47+11=58  \n",
        "Step2: 58+42=100  \n",
        "Step3: 100+13=113  \n",
        "Final Result = 113  "
      ],
      "metadata": {
        "id": "Fb-OnAQeFJSm"
      }
    },
    {
      "cell_type": "code",
      "source": [
        "# PQ1: Sum of even numbers\n",
        "def sum_even(lst):\n",
        "    return sum(num for num in lst if num % 2 == 0)\n",
        "print(sum_even([1,2,3,4,5,6]))  # 12\n",
        "\n"
      ],
      "metadata": {
        "colab": {
          "base_uri": "https://localhost:8080/"
        },
        "id": "IGnnx_0lFdjO",
        "outputId": "7ef71f60-f3fd-4154-e4f0-26b9bd4a705e"
      },
      "execution_count": 1,
      "outputs": [
        {
          "output_type": "stream",
          "name": "stdout",
          "text": [
            "12\n"
          ]
        }
      ]
    },
    {
      "cell_type": "code",
      "source": [
        "# PQ2: Reverse a string\n",
        "def reverse_string(s):\n",
        "    return s[::-1]\n",
        "print(reverse_string(\"hello\"))\n",
        "\n"
      ],
      "metadata": {
        "colab": {
          "base_uri": "https://localhost:8080/"
        },
        "id": "kQBc-T4lFkgD",
        "outputId": "f8fd329e-e6bb-49ef-dcfa-49ae37db3126"
      },
      "execution_count": 2,
      "outputs": [
        {
          "output_type": "stream",
          "name": "stdout",
          "text": [
            "olleh\n"
          ]
        }
      ]
    },
    {
      "cell_type": "code",
      "source": [
        "# PQ3: Squares of list\n",
        "def squares(lst):\n",
        "    return [x*x for x in lst]\n",
        "print(squares([1,2,3,4]))\n",
        "\n"
      ],
      "metadata": {
        "colab": {
          "base_uri": "https://localhost:8080/"
        },
        "id": "dVn3OoSOFnpE",
        "outputId": "f76156eb-dacc-4f88-f79d-2f3355e41822"
      },
      "execution_count": 3,
      "outputs": [
        {
          "output_type": "stream",
          "name": "stdout",
          "text": [
            "[1, 4, 9, 16]\n"
          ]
        }
      ]
    },
    {
      "cell_type": "code",
      "source": [
        "# PQ4: Prime numbers 1-200\n",
        "def is_prime(n):\n",
        "    if n < 2: return False\n",
        "    for i in range(2, int(n**0.5)+1):\n",
        "        if n % i == 0: return False\n",
        "    return True\n",
        "primes = [x for x in range(1,201) if is_prime(x)]\n",
        "print(primes)\n",
        "\n"
      ],
      "metadata": {
        "colab": {
          "base_uri": "https://localhost:8080/"
        },
        "id": "0km_-3CJFp2E",
        "outputId": "f75a1f9c-3eb7-45a6-9668-28583a6e451b"
      },
      "execution_count": 4,
      "outputs": [
        {
          "output_type": "stream",
          "name": "stdout",
          "text": [
            "[2, 3, 5, 7, 11, 13, 17, 19, 23, 29, 31, 37, 41, 43, 47, 53, 59, 61, 67, 71, 73, 79, 83, 89, 97, 101, 103, 107, 109, 113, 127, 131, 137, 139, 149, 151, 157, 163, 167, 173, 179, 181, 191, 193, 197, 199]\n"
          ]
        }
      ]
    },
    {
      "cell_type": "code",
      "source": [
        "# PQ5: Fibonacci iterator\n",
        "class Fibonacci:\n",
        "    def __init__(self, n):\n",
        "        self.n, self.a, self.b, self.count = n, 0, 1, 0\n",
        "    def __iter__(self):\n",
        "        return self\n",
        "    def __next__(self):\n",
        "        if self.count < self.n:\n",
        "            val = self.a\n",
        "            self.a, self.b = self.b, self.a + self.b\n",
        "            self.count += 1\n",
        "            return val\n",
        "        else:\n",
        "            raise StopIteration\n",
        "for num in Fibonacci(10):\n",
        "    print(num, end=\" \")\n",
        "print()\n",
        "\n"
      ],
      "metadata": {
        "colab": {
          "base_uri": "https://localhost:8080/"
        },
        "id": "UCyLvfpQFtSr",
        "outputId": "4a4317ee-bef6-4589-8b3b-05fabdb775ce"
      },
      "execution_count": 5,
      "outputs": [
        {
          "output_type": "stream",
          "name": "stdout",
          "text": [
            "0 1 1 2 3 5 8 13 21 34 \n"
          ]
        }
      ]
    },
    {
      "cell_type": "code",
      "source": [
        "# PQ6: Generator powers of 2\n",
        "def powers_of_two(n):\n",
        "    for i in range(n+1):\n",
        "        yield 2**i\n",
        "print(list(powers_of_two(5)))\n",
        "\n"
      ],
      "metadata": {
        "colab": {
          "base_uri": "https://localhost:8080/"
        },
        "id": "cLfV7zYjFw1j",
        "outputId": "8d798c06-443a-46d0-8f56-168df0aea09d"
      },
      "execution_count": 6,
      "outputs": [
        {
          "output_type": "stream",
          "name": "stdout",
          "text": [
            "[1, 2, 4, 8, 16, 32]\n"
          ]
        }
      ]
    },
    {
      "cell_type": "code",
      "source": [
        "# PQ7: Generator for file read\n",
        "def read_file(file):\n",
        "    with open(file, \"r\") as f:\n",
        "        for line in f:\n",
        "            yield line.strip()\n",
        "print(\"PQ7 generator ready\")\n",
        "\n"
      ],
      "metadata": {
        "colab": {
          "base_uri": "https://localhost:8080/"
        },
        "id": "f-gU3OCSFzGO",
        "outputId": "bc406fca-ab91-4ae5-fbde-63f2203b5ffe"
      },
      "execution_count": 7,
      "outputs": [
        {
          "output_type": "stream",
          "name": "stdout",
          "text": [
            "PQ7 generator ready\n"
          ]
        }
      ]
    },
    {
      "cell_type": "code",
      "source": [
        "# PQ8: Sort tuples by 2nd element\n",
        "data = [(1,5), (3,1), (2,7)]\n",
        "print(sorted(data, key=lambda x: x[1]))\n",
        "\n"
      ],
      "metadata": {
        "colab": {
          "base_uri": "https://localhost:8080/"
        },
        "id": "OiJ-m1VVF1IM",
        "outputId": "b1cdb5c7-0c56-408a-8ac1-1065d9427fc9"
      },
      "execution_count": 9,
      "outputs": [
        {
          "output_type": "stream",
          "name": "stdout",
          "text": [
            "[(3, 1), (1, 5), (2, 7)]\n"
          ]
        }
      ]
    },
    {
      "cell_type": "code",
      "source": [
        "# PQ9: Celsius to Fahrenheit\n",
        "temps_c = [0, 20, 30, 40]\n",
        "temps_f = list(map(lambda c: (c*9/5)+32, temps_c))\n",
        "print(temps_f)\n",
        "\n"
      ],
      "metadata": {
        "colab": {
          "base_uri": "https://localhost:8080/"
        },
        "id": "gSBPGN9oF6Cd",
        "outputId": "1cb99310-b4cf-4b98-84ee-42323a291f5e"
      },
      "execution_count": 10,
      "outputs": [
        {
          "output_type": "stream",
          "name": "stdout",
          "text": [
            "[32.0, 68.0, 86.0, 104.0]\n"
          ]
        }
      ]
    },
    {
      "cell_type": "code",
      "source": [
        "# PQ10: Remove vowels\n",
        "def remove_vowels(s):\n",
        "    return ''.join(filter(lambda x: x.lower() not in \"aeiou\", s))\n",
        "print(remove_vowels(\"Hello World\"))\n",
        "\n"
      ],
      "metadata": {
        "colab": {
          "base_uri": "https://localhost:8080/"
        },
        "id": "7GWBB-kUF8Uk",
        "outputId": "9ff7251a-a473-4560-d4a8-f0b85b88f5e1"
      },
      "execution_count": 11,
      "outputs": [
        {
          "output_type": "stream",
          "name": "stdout",
          "text": [
            "Hll Wrld\n"
          ]
        }
      ]
    },
    {
      "cell_type": "code",
      "source": [
        "# PQ11: Book shop accounting\n",
        "orders = [\n",
        "    [34587, \"Learning Python\", 4, 40.95],\n",
        "    [98762, \"Programming 101\", 5, 56.80],\n",
        "    [77226, \"Data Science\", 3, 32.95],\n",
        "    [88112, \"AI Basics\", 3, 24.99]\n",
        "]\n",
        "result = list(map(lambda x: (x[0], x[2]*x[3] if x[2]*x[3]>=100 else x[2]*x[3]+10), orders))\n",
        "print(result)"
      ],
      "metadata": {
        "colab": {
          "base_uri": "https://localhost:8080/"
        },
        "id": "REdMTW1KF-TU",
        "outputId": "cc75b206-5c3e-4e36-fa99-4d87c189d0ac"
      },
      "execution_count": 12,
      "outputs": [
        {
          "output_type": "stream",
          "name": "stdout",
          "text": [
            "[(34587, 163.8), (98762, 284.0), (77226, 108.85000000000001), (88112, 84.97)]\n"
          ]
        }
      ]
    }
  ]
}